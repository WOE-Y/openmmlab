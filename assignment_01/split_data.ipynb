{
 "cells": [
  {
   "cell_type": "code",
   "execution_count": 2,
   "id": "2ca79310",
   "metadata": {},
   "outputs": [],
   "source": [
    "import os\n",
    "import sys\n",
    "import shutil\n",
    "import numpy as np"
   ]
  },
  {
   "cell_type": "code",
   "execution_count": 3,
   "id": "1645dea5",
   "metadata": {},
   "outputs": [],
   "source": [
    "def load_data(data_path):\n",
    "    count = 0\n",
    "    data = {}\n",
    "    for dir_name in os.listdir(data_path):\n",
    "        dir_path = os.path.join(data_path, dir_name)\n",
    "        if not os.path.isdir(dir_path):\n",
    "            continue\n",
    "        data[dir_name] = []\n",
    "        for file_name in os.listdir(dir_path):\n",
    "            file_path = os.path.join(dir_path, file_name)\n",
    "            if not os.path.isfile(file_path):\n",
    "                continue\n",
    "            data[dir_name].append(file_path)\n",
    "        count += len(data[dir_name])\n",
    "        print(\"{} :{}\".format(dir_name, len(data[dir_name])))\n",
    "    print(\"total of image : {}\".format(count))\n",
    "    return data\n",
    "\n",
    "\n",
    "def copy_dataset(src_img_list, data_index, target_path):\n",
    "    target_img_list = []\n",
    "    for index in data_index:\n",
    "        src_img = src_img_list[index]\n",
    "        img_name = os.path.split(src_img)[-1]\n",
    "        shutil.copy(src_img, target_path)\n",
    "        target_img_list.append(os.path.join(target_path, img_name))\n",
    "    return target_img_list\n",
    "\n",
    "\n",
    "def write_file(data, file_name):\n",
    "    if isinstance(data, dict):\n",
    "        write_data = []\n",
    "        for lab, img_list in data.items():\n",
    "            for img in img_list:\n",
    "                write_data.append(\"{} {}\".format(img, lab))\n",
    "    else:\n",
    "        write_data = data\n",
    "    with open(file_name, \"w\") as f:\n",
    "        for line in write_data:\n",
    "            f.write(line + \"\\n\")\n",
    "    print(\"{} write over!\".format(file_name))\n",
    "\n",
    "\n",
    "def split_data(src_data_path, target_data_path, train_rate=0.8):\n",
    "    src_data_dict = load_data(src_data_path)\n",
    "    classes = []\n",
    "    train_dataset, val_dataset = {}, {}\n",
    "    train_count, val_count = 0, 0\n",
    "    for i, (cls_name, img_list) in enumerate(src_data_dict.items()):\n",
    "        img_data_size = len(img_list)\n",
    "        random_index = np.random.choice(img_data_size, img_data_size,\n",
    "        replace=False)\n",
    "        train_data_size = int(img_data_size * train_rate)\n",
    "        train_data_index = random_index[:train_data_size]\n",
    "        val_data_index = random_index[train_data_size:]\n",
    "        train_data_path = os.path.join(target_data_path, \"train\", cls_name)\n",
    "        val_data_path = os.path.join(target_data_path, \"val\", cls_name)\n",
    "        os.makedirs(train_data_path, exist_ok=True)\n",
    "        os.makedirs(val_data_path, exist_ok=True)\n",
    "        classes.append(cls_name)\n",
    "        train_dataset[i] = copy_dataset(img_list, train_data_index,\n",
    "                                        train_data_path)\n",
    "        val_dataset[i] = copy_dataset(img_list, val_data_index, val_data_path)\n",
    "        print(\"target {} train:{}, val:{}\".format(cls_name,\n",
    "                                                  len(train_dataset[i]), len(val_dataset[i])))\n",
    "        train_count += len(train_dataset[i])\n",
    "        val_count += len(val_dataset[i])\n",
    "\n",
    "    print(\"train size:{}, val size:{}, total:{}\".format(train_count, val_count,\n",
    "                                                        train_count + val_count))\n",
    "    write_file(classes, os.path.join(target_data_path, \"classes.txt\"))\n",
    "    write_file(train_dataset, os.path.join(target_data_path, \"train.txt\"))\n",
    "    write_file(val_dataset, os.path.join(target_data_path, \"val.txt\"))"
   ]
  },
  {
   "cell_type": "code",
   "execution_count": 4,
   "id": "26b7fc7d",
   "metadata": {},
   "outputs": [
    {
     "name": "stdout",
     "output_type": "stream",
     "text": [
      "tulip :585\n",
      "daisy :588\n",
      "rose :583\n",
      "sunflower :536\n",
      "dandelion :556\n",
      "total of image : 2848\n",
      "target tulip train:468, val:117\n",
      "target daisy train:470, val:118\n",
      "target rose train:466, val:117\n",
      "target sunflower train:428, val:108\n",
      "target dandelion train:444, val:112\n",
      "train size:2276, val size:572, total:2848\n",
      "/data/yangziqi/openmmlab/mmclassification/data/flower_dataset/classes.txt write over!\n",
      "/data/yangziqi/openmmlab/mmclassification/data/flower_dataset/train.txt write over!\n",
      "/data/yangziqi/openmmlab/mmclassification/data/flower_dataset/val.txt write over!\n"
     ]
    }
   ],
   "source": [
    "src_data_path = '/data/yangziqi/openmmlab/flower_dataset'\n",
    "target_data_path = '/data/yangziqi/openmmlab/mmclassification/data/flower_dataset'\n",
    "split_data(src_data_path, target_data_path, train_rate=0.8)"
   ]
  },
  {
   "cell_type": "code",
   "execution_count": null,
   "id": "d110c92a",
   "metadata": {},
   "outputs": [],
   "source": []
  }
 ],
 "metadata": {
  "kernelspec": {
   "display_name": "Python 3",
   "language": "python",
   "name": "python3"
  },
  "language_info": {
   "codemirror_mode": {
    "name": "ipython",
    "version": 3
   },
   "file_extension": ".py",
   "mimetype": "text/x-python",
   "name": "python",
   "nbconvert_exporter": "python",
   "pygments_lexer": "ipython3",
   "version": "3.8.8"
  }
 },
 "nbformat": 4,
 "nbformat_minor": 5
}
